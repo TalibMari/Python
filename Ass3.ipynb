{
 "cells": [
  {
   "cell_type": "code",
   "execution_count": 1,
   "metadata": {},
   "outputs": [
    {
     "name": "stdout",
     "output_type": "stream",
     "text": [
      "Select an operation.\n",
      "+\n",
      "-\n",
      "*\n",
      "/\n",
      "Enter operator to use:+\n",
      "Enter first number: 12\n",
      "Enter second number: 23\n",
      "12 + 23 = 35\n"
     ]
    }
   ],
   "source": [
    "# Q1 \n",
    "print(\"Select an operation.\")\n",
    "print(\"+\")\n",
    "print(\"-\")\n",
    "print(\"*\")\n",
    "print(\"/\")\n",
    "choice = input(\"Enter operator to use:\")\n",
    "A = int(input(\"Enter first number: \"))\n",
    "B = int(input(\"Enter second number: \"))\n",
    "if choice == '+':\n",
    "    ans=A+B \n",
    "    print(A,\"+\",B,\"=\", ans)\n",
    "elif choice == '-':\n",
    "    ans=A+B \n",
    "    print(A,\"-\",B,\"=\", ans)\n",
    "elif choice == '*':\n",
    "    ans=A*B\n",
    "    print(A,\"*\",B,\"=\", ans)\n",
    "elif choice == '/':\n",
    "    ans=A/B      \n",
    "    print(A,\"/\",B,\"=\", ans)\n",
    "else:\n",
    "    print(\"Invalid input\")"
   ]
  },
  {
   "cell_type": "code",
   "execution_count": 2,
   "metadata": {},
   "outputs": [
    {
     "name": "stdout",
     "output_type": "stream",
     "text": [
      "Checking if Number exists in list : \n",
      "Enter number: 6\n",
      "Element Exists\n",
      "Element Not Exists\n"
     ]
    }
   ],
   "source": [
    "# Q2\n",
    "\n",
    "list = [ \"A\", 6, 'C', 5, 3, 4 ] \n",
    "print(\"Checking if Number exists in list : \") \n",
    "# Checking if Number exists in list  \n",
    "# using loop \n",
    "A = int(input(\"Enter number: \"))\n",
    "for i in list: \n",
    "    if(i == A) : \n",
    "        print (\"Element Exists\") \n",
    "else:\n",
    "        print (\"Element Not Exists\")"
   ]
  },
  {
   "cell_type": "code",
   "execution_count": 3,
   "metadata": {},
   "outputs": [
    {
     "name": "stdout",
     "output_type": "stream",
     "text": [
      "{0: 10, 1: 20}\n",
      "{0: 10, 1: 20, 2: 30}\n"
     ]
    }
   ],
   "source": [
    "# Q3\n",
    "d = {0:10, 1:20}\n",
    "print(d)\n",
    "d.update({2:30})\n",
    "print(d)"
   ]
  },
  {
   "cell_type": "code",
   "execution_count": 4,
   "metadata": {},
   "outputs": [
    {
     "name": "stdout",
     "output_type": "stream",
     "text": [
      "293\n"
     ]
    }
   ],
   "source": [
    "# Q4\n",
    "my_dict = {'data1':100,'data2':-54,'data3':247}\n",
    "print(sum(my_dict.values()))"
   ]
  },
  {
   "cell_type": "code",
   "execution_count": 5,
   "metadata": {},
   "outputs": [
    {
     "name": "stdout",
     "output_type": "stream",
     "text": [
      "[3, 9, 12]\n"
     ]
    }
   ],
   "source": [
    "#Q5\n",
    "lst = [ 3, 6, 9, 12, 3, 30, 15, 9, 45, 36, 12, 12]\n",
    "dupItems = []\n",
    "uniqItems = {}\n",
    "for x in lst:\n",
    "   if x not in uniqItems:\n",
    "      uniqItems[x] = 1\n",
    "   else:\n",
    "      if uniqItems[x] == 1:\n",
    "         dupItems.append(x)\n",
    "      uniqItems[x] += 1\n",
    "print(dupItems)"
   ]
  },
  {
   "cell_type": "code",
   "execution_count": 6,
   "metadata": {},
   "outputs": [
    {
     "name": "stdout",
     "output_type": "stream",
     "text": [
      "Enter first number: 20\n",
      "Key is not present in the dictionary\n"
     ]
    }
   ],
   "source": [
    "# Q6\n",
    "d = {1: 10, 2: 20, 3: 30, 4: 40, 5: 50, 6: 60}\n",
    "A = int(input(\"Enter first number: \"))\n",
    "if A in d:\n",
    "    print('Key is present in the dictionary')\n",
    "else:\n",
    "      print('Key is not present in the dictionary')"
   ]
  },
  {
   "cell_type": "code",
   "execution_count": null,
   "metadata": {},
   "outputs": [],
   "source": []
  }
 ],
 "metadata": {
  "kernelspec": {
   "display_name": "Python 3",
   "language": "python",
   "name": "python3"
  },
  "language_info": {
   "codemirror_mode": {
    "name": "ipython",
    "version": 3
   },
   "file_extension": ".py",
   "mimetype": "text/x-python",
   "name": "python",
   "nbconvert_exporter": "python",
   "pygments_lexer": "ipython3",
   "version": "3.7.4"
  }
 },
 "nbformat": 4,
 "nbformat_minor": 2
}
