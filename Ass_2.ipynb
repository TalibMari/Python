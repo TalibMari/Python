{
 "cells": [
  {
   "cell_type": "code",
   "execution_count": 2,
   "metadata": {},
   "outputs": [
    {
     "name": "stdout",
     "output_type": "stream",
     "text": [
      "Maths: 60\n",
      "Physics: 78\n",
      "Chemistry: 78\n",
      "Computer Science: 67\n",
      "Biology: 56\n",
      "Persentage: 67.8\n",
      "B Grade\n"
     ]
    }
   ],
   "source": [
    "#Q1\n",
    "#Write a program which takes 5 inputs from user for different subject’s marks,\n",
    "#total it and generate mark sheet using grades ?\n",
    "\n",
    "mth = int(input(\"Maths: \"))\n",
    "phy = int(input(\"Physics: \"))\n",
    "che = int(input(\"Chemistry: \"))\n",
    "cs = int(input(\"Computer Science: \"))\n",
    "bio = int(input(\"Biology: \"))\n",
    "\n",
    "per = (mth+phy+che+cs+bio)/5\n",
    "print(\"Persentage:\",per)\n",
    "\n",
    "if per > 80 and per <= 100:\n",
    "    print (\"A+ Grade\")\n",
    "elif per >70 and per < 80:\n",
    "    print(\"A Grade\")\n",
    "elif per >60 and per <70:\n",
    "    print(\"B Grade\")\n",
    "elif per >50 and per <60:\n",
    "    print(\"C grade\")\n",
    "elif per >40 and per <50:\n",
    "    print(\"D Grade\")\n",
    "else:\n",
    "    print(\"Fail\")"
   ]
  },
  {
   "cell_type": "code",
   "execution_count": 3,
   "metadata": {},
   "outputs": [
    {
     "name": "stdout",
     "output_type": "stream",
     "text": [
      "Enter a number: 3\n",
      "Number is odd\n"
     ]
    }
   ],
   "source": [
    "# Q2 \n",
    "# Write a program which take input from user and identify that the given? number is even or odd?\n",
    "val = int(input(\"Enter a number: \"))\n",
    "if val % 2 == 0:\n",
    "    print(\"Number is even\")\n",
    "else:\n",
    "    print(\"Number is odd\")"
   ]
  },
  {
   "cell_type": "code",
   "execution_count": 4,
   "metadata": {},
   "outputs": [
    {
     "name": "stdout",
     "output_type": "stream",
     "text": [
      "The length of list is:  5\n"
     ]
    }
   ],
   "source": [
    "# Q3 \n",
    "# Write a program which print the length of the list?\n",
    "list = len([10, 20, 30,40,50]) \n",
    "print(\"The length of list is: \", list)"
   ]
  },
  {
   "cell_type": "code",
   "execution_count": 5,
   "metadata": {},
   "outputs": [
    {
     "name": "stdout",
     "output_type": "stream",
     "text": [
      "Sum of all element list:  48\n"
     ]
    }
   ],
   "source": [
    "# Q4 \n",
    "# Write a Python program to sum all the numeric items in a list?\n",
    "list = [6,10,20,3,9] \n",
    "  \n",
    "# using sum() function \n",
    "listsum = sum(list) \n",
    "  \n",
    "# printing total value \n",
    "print(\"Sum of all element list: \", listsum)"
   ]
  },
  {
   "cell_type": "code",
   "execution_count": null,
   "metadata": {},
   "outputs": [],
   "source": [
    "#Q5 \n",
    "#Write a Python program to get the largest number from a numeric list?\n",
    "List = {5,2,10,4,8,9,3}\n",
    "print(\"The largest number in the list is: \", max(List))"
   ]
  },
  {
   "cell_type": "code",
   "execution_count": 6,
   "metadata": {},
   "outputs": [
    {
     "name": "stdout",
     "output_type": "stream",
     "text": [
      "1\n",
      "1\n",
      "2\n",
      "3\n"
     ]
    }
   ],
   "source": [
    "# Q6 \n",
    "# Take a list, say for example this one:\n",
    "# a = [1, 1, 2, 3, 5, 8, 13, 21, 34, 55, 89]\n",
    "# and write a program that prints out all the elements of the list that are less than 5?\n",
    "list = [1, 1, 2, 3, 5, 8, 13, 21, 34, 55, 89]\n",
    "for i in list:\n",
    "    if i>=5:\n",
    "        break\n",
    "    print(i)"
   ]
  }
 ],
 "metadata": {
  "kernelspec": {
   "display_name": "Python 3",
   "language": "python",
   "name": "python3"
  },
  "language_info": {
   "codemirror_mode": {
    "name": "ipython",
    "version": 3
   },
   "file_extension": ".py",
   "mimetype": "text/x-python",
   "name": "python",
   "nbconvert_exporter": "python",
   "pygments_lexer": "ipython3",
   "version": "3.7.4"
  }
 },
 "nbformat": 4,
 "nbformat_minor": 2
}
