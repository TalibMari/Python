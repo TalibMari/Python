{
 "cells": [
  {
   "cell_type": "code",
   "execution_count": 7,
   "metadata": {},
   "outputs": [],
   "source": [
    "#Q1\n",
    "#    Object-oriented programming: As the name suggests, \n",
    "#    Object-Oriented Programming or OOPs refers to languages that uses objects in programming. \n",
    "#    Object-oriented programming aims to implement real-world entities like inheritance, hiding, polymorphism etc \n",
    "#    in programming. The main aim of OOP is to bind together the data and the functions that operate on them \n",
    "#    so that no other part of the code can access this data except that function."
   ]
  },
  {
   "cell_type": "code",
   "execution_count": 8,
   "metadata": {},
   "outputs": [],
   "source": [
    "#Q2\n",
    "#   Here’s a detailed look at some of OOP’s top benefits:\n",
    "#      1. Modularity for easier troubleshooting:\n",
    "#             When working with object-oriented programming languages, you know exactly where to look.“Oh, \n",
    "#             the car object broke down?The problem must be in the Car class!” You don’t have to muck through anything else.\n",
    "#      2. Reuse of code through inheritance:\n",
    "#             Everyone builds their objects separately but discover commonalities between them. In fact, \n",
    "#             each object is really just a different kind of Car. This is where the inheritance technique\n",
    "#             saves time: Create one generic class (Car), and then define the subclasses (RaceCar and Limousine) \n",
    "#             that are to inherit the generic class’s traits.\n",
    "#      3. Flexibility through polymorphism:\n",
    "#             Riffing on this example, you now need just a few drivers, or functions, like “driveCar,” driveRaceCar” \n",
    "#             and “DriveLimousine.” RaceCarDrivers share some traits with LimousineDrivers, but other things, \n",
    "#             like RaceHelmets and BeverageSponsorships, are unique.\n",
    "#      4. Effective problem solving:\n",
    "#             Object-oriented programming is often the most natural and pragmatic approach, once you get the hang of it. \n",
    "#             OOP languages allows you to break down your software into bite-sized problems that you then can solve \n",
    "#             — one object at a time"
   ]
  },
  {
   "cell_type": "code",
   "execution_count": 9,
   "metadata": {},
   "outputs": [],
   "source": [
    "#Q3\n",
    "#      Function:-\n",
    "#             A function is a block of code to carry out a specific task, will contain its own scope \n",
    "#             and is called by name. All functions may contain zero(no) arguments or more than one arguments. \n",
    "#             On exit, a function can or can not return one or more values.\n",
    "\n",
    "#      Method:-\n",
    "#            A method in python is somewhat similar to a function, except it is associated with object/classes. \n",
    "#            Methods in python are very similar to functions except for two major differences.\n",
    "#                 1:-The method is implicitly used for an object for which it is called.\n",
    "#                 2:-The method is accessible to data that is contained within the class.\n"
   ]
  },
  {
   "cell_type": "code",
   "execution_count": 10,
   "metadata": {},
   "outputs": [],
   "source": [
    "#Q4\n",
    "#     1:- Class\n",
    "#     2:-Object\n",
    "#     3:-Attribute\n",
    "#     4:-Behavior\n",
    "\n",
    "#    1:-Class:-\n",
    "#              A class is a code template for creating objects. Objects have member variables and have behaviour \n",
    "#              associated with them. In python a class is created by the keyword class .An object is created using \n",
    "#              the constructor of the class. This object will then be called the instance of the class.\n",
    "\n",
    "#    2:-Object:-\n",
    "#              object oriented programming stress on objects. Object is simply a collection of data (variables) \n",
    "#              and methods (functions) that act on those data. And, class is a blueprint for the object.\n",
    "\n",
    "\n",
    "#    3:-Attribute:-\n",
    "#              An instance attribute is a Python variable belonging to one, and only one, object. \n",
    "#              A class attribute is a Python variable that belongs to a class rather than a particular object. \n",
    "#              It is shared between all the objects of this class and it is defined outside the constructor function, \n",
    "#              __init__(self,...) , of the class.\n",
    "\n",
    "\n",
    "#    4:-Behavior:-\n",
    "#              Objects in Python are generally classified according to their behaviors and the features \n",
    "#              that they implement. ... These methods are automatically triggered by the interpreter as \n",
    "#              a program executes. For example, the operation x + y is mapped to an internal method, x."
   ]
  },
  {
   "cell_type": "code",
   "execution_count": 3,
   "metadata": {},
   "outputs": [
    {
     "name": "stdout",
     "output_type": "stream",
     "text": [
      "Fe22 Ferrari 2011 Green 4\n",
      "Carolla is stopped.\n",
      "Lamborghini is now being driven.\n"
     ]
    }
   ],
   "source": [
    "#Q5\n",
    "# Write a code in python in which create a class named it Car which\n",
    "# have 5 attributes such like (model, color and name etc.) and 3\n",
    "# methods. And create 5 object instance from that class.\n",
    "\n",
    "\n",
    "class Car:\n",
    "    def __init__(self, name, brand, model, color, doors):\n",
    "        self.name = name\n",
    "        self.brand = brand\n",
    "        self.model = model\n",
    "        self.color =  color\n",
    "        self.doors = doors\n",
    "    def printCar(self):\n",
    "        print(self.name,self.brand, self.model, self.color, self.doors)\n",
    "    def drive(self):\n",
    "        print(self.name, \"is now being driven.\")\n",
    "    def stop(self):\n",
    "        print(self.name, \"is stopped.\")\n",
    "car1 = Car(\"Mehran\", \"Suzuki\", \"2009\", \"White\", 4)\n",
    "car2 = Car(\"Lamborghini\", \"Lambo\", \"2010\", \"Blue\", 2)\n",
    "car3 = Car(\"Fe22\", \"Ferrari\", \"2011\", \"Green\", 4)\n",
    "car4 = Car(\"Carolla\", \"Toyota\", \"2012\", \"Red\", 2)\n",
    "car5 = Car(\"Vitz\", \"Honda\", \"2019\", \"Gray\", 4)\n",
    "car3.printCar()\n",
    "car4.stop()\n",
    "car2.drive()"
   ]
  },
  {
   "cell_type": "code",
   "execution_count": null,
   "metadata": {},
   "outputs": [],
   "source": []
  }
 ],
 "metadata": {
  "kernelspec": {
   "display_name": "Python 3",
   "language": "python",
   "name": "python3"
  },
  "language_info": {
   "codemirror_mode": {
    "name": "ipython",
    "version": 3
   },
   "file_extension": ".py",
   "mimetype": "text/x-python",
   "name": "python",
   "nbconvert_exporter": "python",
   "pygments_lexer": "ipython3",
   "version": "3.7.4"
  }
 },
 "nbformat": 4,
 "nbformat_minor": 2
}
