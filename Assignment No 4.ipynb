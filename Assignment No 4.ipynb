{
 "cells": [
  {
   "cell_type": "code",
   "execution_count": 5,
   "metadata": {},
   "outputs": [],
   "source": [
    "#1. \n",
    "#Use a dictionary to store information about a person you know. \n",
    "#Store their first name, last name, age,and the city in which they live. \n",
    "#You should have keys such as first_name, last_name, age, and city. \n",
    "#Print each piece of information stored in your dictionary. \n",
    "#Add a new key value pair about qualification then update the qualification value to high academic level then delete it.\n",
    "\n",
    "\n",
    "person = {\n",
    "    'first_name': 'Talib',\n",
    "    'Last_name': 'Hussain',\n",
    "    'age': 25,\n",
    "    'City':'Hyderabad',\n",
    "}\n",
    "person[\"Qualification\"] = \"B.com\"\n"
   ]
  },
  {
   "cell_type": "code",
   "execution_count": 6,
   "metadata": {},
   "outputs": [
    {
     "name": "stdout",
     "output_type": "stream",
     "text": [
      "{'first_name': 'Talib', 'Last_name': 'Hussain', 'age': 25, 'City': 'Hyderabad', 'Qualification': 'B.com'}\n"
     ]
    }
   ],
   "source": [
    "print(person)"
   ]
  },
  {
   "cell_type": "code",
   "execution_count": 7,
   "metadata": {},
   "outputs": [],
   "source": [
    "person[\"Qualification\"] = \"BCS\""
   ]
  },
  {
   "cell_type": "code",
   "execution_count": 8,
   "metadata": {},
   "outputs": [
    {
     "name": "stdout",
     "output_type": "stream",
     "text": [
      "{'first_name': 'Talib', 'Last_name': 'Hussain', 'age': 25, 'City': 'Hyderabad', 'Qualification': 'BCS'}\n"
     ]
    }
   ],
   "source": [
    "print(person)"
   ]
  },
  {
   "cell_type": "code",
   "execution_count": 9,
   "metadata": {},
   "outputs": [
    {
     "name": "stdout",
     "output_type": "stream",
     "text": [
      "\n",
      "Karachi is in Pakistan.\n",
      "  It has a population of about 615808.\n",
      "\n",
      "Hyderabad is in Pakistan.\n",
      "  It has a population of about 476000.\n",
      "\n",
      "Nawabshah is in Pakistan.\n",
      "  It has a population of about 100325.\n"
     ]
    }
   ],
   "source": [
    "#2.\n",
    "#Make a dictionary called cities. \n",
    "#Use the names of three cities as keys in your dictionary. \n",
    "#Create adictionary of information about each city and include the country that the city is in, \n",
    "#its approximate population, and one fact about that city. \n",
    "#The keys for each city’s dictionary should be something like country, population, and fact. \n",
    "#Print the name of each city and all of the information you have stored about it.\n",
    "\n",
    "cities = {\n",
    "    'karachi': {\n",
    "        'country': 'Pakistan',\n",
    "        'population': 615808,\n",
    "        },\n",
    "    'hyderabad': {\n",
    "        'country': 'Pakistan',\n",
    "        'population': 476000,\n",
    "        },\n",
    "    'nawabshah': {\n",
    "        'country': 'Pakistan',\n",
    "        'population': 100325,\n",
    "        }\n",
    "    }\n",
    "\n",
    "for city, city_info in cities.items():\n",
    "    country = city_info['country'].title()\n",
    "    population = city_info['population']\n",
    "    \n",
    "    print(\"\\n\" + city.title() + \" is in \" + country + \".\")\n",
    "    print(\"  It has a population of about \" + str(population) + \".\")"
   ]
  },
  {
   "cell_type": "code",
   "execution_count": 10,
   "metadata": {},
   "outputs": [
    {
     "name": "stdout",
     "output_type": "stream",
     "text": [
      "Enter Your age :- 2\n",
      "Movie Ticket Is Free For You\n"
     ]
    }
   ],
   "source": [
    "#3\n",
    "#A movie theater charges different ticket prices depending on a person’s age. \n",
    "#If a person is under the age of 3, the ticket is free; if they are between 3 and 12, the ticket is 10; \n",
    "#and if they are over age 12, the ticket is 15. \n",
    "#Write a loop in which you ask users their age, and then tell them the cost of their movie ticket.\n",
    "\n",
    "age = int(input(\"Enter Your age :- \"))\n",
    "\n",
    "if(age<=3):\n",
    "    print(\"Movie Ticket Is Free For You\")\n",
    "elif(age<=12):\n",
    "    print(\"Movie Ticket Is $10\")\n",
    "elif(age>=12):\n",
    "    print(\"Movie Ticket Is $15\")"
   ]
  },
  {
   "cell_type": "code",
   "execution_count": 11,
   "metadata": {},
   "outputs": [
    {
     "name": "stdout",
     "output_type": "stream",
     "text": [
      "Alice in wonderland is one of my favorite books.\n"
     ]
    }
   ],
   "source": [
    "#4. \n",
    "#Write a function called favorite_book() that accepts one parameter, title. \n",
    "#The function should print a message, such as One of my favorite books is Alice in Wonderland. \n",
    "#Call the function, making sure to include a book title as an argument in the function call.\n",
    "\n",
    "\n",
    "def favorite_book(title):\n",
    "    print(title +\" is one of my favorite books.\")\n",
    "favorite_book('Alice in wonderland')"
   ]
  },
  {
   "cell_type": "code",
   "execution_count": 15,
   "metadata": {},
   "outputs": [
    {
     "name": "stdout",
     "output_type": "stream",
     "text": [
      "Guess a number between 1 and 30\n",
      "1\n",
      "Try Higher\n",
      "Guess a number between 1 and 30\n",
      "30\n",
      "Try Lower\n",
      "Guess a number between 1 and 30\n",
      "20\n",
      "Try Higher\n",
      "Guess a number between 1 and 30\n",
      "25\n",
      "Try Lower\n",
      "Guess a number between 1 and 30\n",
      "22\n",
      "You won!!!\n",
      "You Have Three Chanse To Guess The Number\n"
     ]
    }
   ],
   "source": [
    "#5. \n",
    "#Write a program which randomly generate a number between 1 to 30 and ask the user in \n",
    "#input field to guess the correct number. \n",
    "#Give three chances to user guess the number \n",
    "#and also give hint to user if hidden number is greater or smaller than the number he given to input field.\n",
    "\n",
    "import random\n",
    "num = random.randint(1, 30)\n",
    "while True:\n",
    "    print('Guess a number between 1 and 30')\n",
    "    guess = input()\n",
    "    i = int(guess)\n",
    "    if i == num:\n",
    "        print('You won!!!')\n",
    "        break\n",
    "    elif i < num:\n",
    "               print('Try Higher')\n",
    "    elif i > num:\n",
    "               print('Try Lower')\n",
    "print(\"You Have Three Chanse To Guess The Number\")"
   ]
  },
  {
   "cell_type": "code",
   "execution_count": null,
   "metadata": {},
   "outputs": [],
   "source": []
  }
 ],
 "metadata": {
  "kernelspec": {
   "display_name": "Python 3",
   "language": "python",
   "name": "python3"
  },
  "language_info": {
   "codemirror_mode": {
    "name": "ipython",
    "version": 3
   },
   "file_extension": ".py",
   "mimetype": "text/x-python",
   "name": "python",
   "nbconvert_exporter": "python",
   "pygments_lexer": "ipython3",
   "version": "3.7.4"
  }
 },
 "nbformat": 4,
 "nbformat_minor": 2
}
